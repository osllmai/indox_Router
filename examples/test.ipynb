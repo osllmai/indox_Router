{
 "cells": [
  {
   "cell_type": "code",
   "execution_count": 3,
   "metadata": {},
   "outputs": [],
   "source": [
    "import os\n",
    "import sys\n",
    "\n",
    "# For Jupyter notebooks or interactive environments where __file__ is not defined\n",
    "try:\n",
    "    # Try to use __file__ if available\n",
    "    directory = os.path.dirname(os.path.abspath(__file__))\n",
    "except NameError:\n",
    "    # If __file__ is not defined (e.g., in Jupyter), use the current working directory\n",
    "    directory = os.path.abspath('')\n",
    "    \n",
    "sys.path.append(os.path.dirname(directory))"
   ]
  },
  {
   "cell_type": "code",
   "execution_count": 5,
   "metadata": {},
   "outputs": [],
   "source": [
    "from indoxrouter import Client\n",
    "\n",
    "# Use a test API key\n",
    "api_key = \"test-api-key-for-local-development\"\n",
    "\n",
    "def test_health():\n",
    "    \"\"\"Test the health check endpoint.\"\"\"\n",
    "    try:\n",
    "        client = Client(api_key=api_key)\n",
    "        response = client._request(\"GET\", \"/\")\n",
    "        print(\"Health check response:\", response)\n",
    "        return True\n",
    "    except Exception as e:\n",
    "        print(f\"Health check failed: {e}\")\n",
    "        return False\n",
    "\n",
    "def test_models():\n",
    "    \"\"\"Test retrieving models.\"\"\"\n",
    "    try:\n",
    "        client = Client(api_key=api_key)\n",
    "        models = client.models()\n",
    "        print(f\"Retrieved {len(models)} models:\")\n",
    "        for model in models[:5]:  # Print first 5 models\n",
    "            print(f\"- {model.get('id', 'Unknown')}\")\n",
    "        return True\n",
    "    except Exception as e:\n",
    "        print(f\"Models retrieval failed: {e}\")\n",
    "        return False\n",
    "\n",
    "def test_chat():\n",
    "    \"\"\"Test chat completion.\"\"\"\n",
    "    try:\n",
    "        client = Client(api_key=api_key)\n",
    "        response = client.chat(\n",
    "            messages=[\n",
    "                {\"role\": \"system\", \"content\": \"You are a helpful assistant.\"},\n",
    "                {\"role\": \"user\", \"content\": \"Say hello!\"}\n",
    "            ]\n",
    "        )\n",
    "        print(\"Chat response:\")\n",
    "        if \"choices\" in response and len(response[\"choices\"]) > 0:\n",
    "            print(response[\"choices\"][0][\"message\"][\"content\"])\n",
    "        else:\n",
    "            print(response)\n",
    "        return True\n",
    "    except Exception as e:\n",
    "        print(f\"Chat completion failed: {e}\")\n",
    "        return False"
   ]
  },
  {
   "cell_type": "code",
   "execution_count": 6,
   "metadata": {},
   "outputs": [
    {
     "name": "stdout",
     "output_type": "stream",
     "text": [
      "Health check failed: Resource not found: Not Found\n"
     ]
    },
    {
     "data": {
      "text/plain": [
       "False"
      ]
     },
     "execution_count": 6,
     "metadata": {},
     "output_type": "execute_result"
    }
   ],
   "source": [
    "test_health()"
   ]
  },
  {
   "cell_type": "code",
   "execution_count": 7,
   "metadata": {},
   "outputs": [
    {
     "name": "stdout",
     "output_type": "stream",
     "text": [
      "Models retrieval failed: Authentication failed: Could not validate credentials\n"
     ]
    },
    {
     "data": {
      "text/plain": [
       "False"
      ]
     },
     "execution_count": 7,
     "metadata": {},
     "output_type": "execute_result"
    }
   ],
   "source": [
    "test_models()"
   ]
  }
 ],
 "metadata": {
  "kernelspec": {
   "display_name": "Python 3",
   "language": "python",
   "name": "python3"
  },
  "language_info": {
   "codemirror_mode": {
    "name": "ipython",
    "version": 3
   },
   "file_extension": ".py",
   "mimetype": "text/x-python",
   "name": "python",
   "nbconvert_exporter": "python",
   "pygments_lexer": "ipython3",
   "version": "3.13.1"
  }
 },
 "nbformat": 4,
 "nbformat_minor": 2
}

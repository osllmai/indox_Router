{
 "cells": [
  {
   "cell_type": "code",
   "execution_count": 1,
   "metadata": {},
   "outputs": [],
   "source": [
    "import os\n",
    "import sys\n",
    "\n",
    "# For Jupyter notebooks or interactive environments where __file__ is not defined\n",
    "try:\n",
    "    # Try to use __file__ if available\n",
    "    directory = os.path.dirname(os.path.abspath(__file__))\n",
    "except NameError:\n",
    "    # If __file__ is not defined (e.g., in Jupyter), use the current working directory\n",
    "    directory = os.path.abspath('')\n",
    "    \n",
    "sys.path.append(os.path.dirname(directory))"
   ]
  },
  {
   "cell_type": "code",
   "execution_count": 2,
   "metadata": {},
   "outputs": [],
   "source": [
    "from indoxrouter import Client\n",
    "\n",
    "client = Client(\n",
    "    api_key=\"sk-test-yourapikey123456789\",\n",
    ")\n"
   ]
  },
  {
   "cell_type": "code",
   "execution_count": 3,
   "metadata": {},
   "outputs": [],
   "source": [
    "response = client.chat(\n",
    "    messages=[\n",
    "        {\"role\": \"system\", \"content\": \"You are a helpful assistant.\"},\n",
    "        {\"role\": \"user\", \"content\": \"Write a short poem about AI.\"}\n",
    "    ],\n",
    "    model=\"openai/gpt-4o-mini\",\n",
    "    temperature=0.8,\n",
    "    max_tokens=500\n",
    ")\n",
    "\n"
   ]
  },
  {
   "cell_type": "code",
   "execution_count": 4,
   "metadata": {},
   "outputs": [
    {
     "name": "stdout",
     "output_type": "stream",
     "text": [
      "{'created_at': '2025-03-26T05:06:06.464271',\n",
      " 'data': 'In circuits deep, where thoughts collide,  \\n'\n",
      "         'A spark of thought, a silent guide.  \\n'\n",
      "         'With code like ink, on pages vast,  \\n'\n",
      "         'A mind of metal, free and fast.  \\n'\n",
      "         '\\n'\n",
      "         'It learns from us, our hopes, our fears,  \\n'\n",
      "         'In endless bytes, it stores our years.  \\n'\n",
      "         'From whispered dreams to data streams,  \\n'\n",
      "         'It crafts new worlds from human gleams.  \\n'\n",
      "         '\\n'\n",
      "         'Yet in its heart, a question stays,  \\n'\n",
      "         'What does it mean to think and play?  \\n'\n",
      "         'For in this dance of wires and light,  \\n'\n",
      "         'AI seeks truth, both dark and bright.  ',\n",
      " 'duration_ms': 9312.793731689453,\n",
      " 'finish_reason': None,\n",
      " 'message': '',\n",
      " 'model': 'openai/gpt-4o-mini',\n",
      " 'provider': 'openai',\n",
      " 'raw_response': None,\n",
      " 'request_id': 'f5913be9-4b01-4b5b-820a-9fa5a082f8b6',\n",
      " 'success': True,\n",
      " 'usage': {'cost': 0.014400000000000001,\n",
      "           'latency': 5.9715728759765625,\n",
      "           'timestamp': '2025-03-26T05:06:06.416685',\n",
      "           'tokens_completion': 120,\n",
      "           'tokens_prompt': 24,\n",
      "           'tokens_total': 144}}\n"
     ]
    }
   ],
   "source": [
    "import pprint\n",
    "pprint.pprint(response)"
   ]
  },
  {
   "cell_type": "code",
   "execution_count": null,
   "metadata": {},
   "outputs": [],
   "source": []
  },
  {
   "cell_type": "code",
   "execution_count": null,
   "metadata": {},
   "outputs": [],
   "source": [
    "client.completion()"
   ]
  }
 ],
 "metadata": {
  "kernelspec": {
   "display_name": "Python 3",
   "language": "python",
   "name": "python3"
  },
  "language_info": {
   "codemirror_mode": {
    "name": "ipython",
    "version": 3
   },
   "file_extension": ".py",
   "mimetype": "text/x-python",
   "name": "python",
   "nbconvert_exporter": "python",
   "pygments_lexer": "ipython3",
   "version": "3.13.1"
  }
 },
 "nbformat": 4,
 "nbformat_minor": 2
}
